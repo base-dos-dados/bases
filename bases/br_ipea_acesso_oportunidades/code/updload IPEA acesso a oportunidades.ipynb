{
 "cells": [
  {
   "cell_type": "markdown",
   "metadata": {
    "toc": true
   },
   "source": [
    "<h1>Table of Contents<span class=\"tocSkip\"></span></h1>\n",
    "<div class=\"toc\" style=\"margin-top: 1em;\"><ul class=\"toc-item\"></ul></div>"
   ]
  },
  {
   "cell_type": "code",
   "execution_count": 16,
   "metadata": {
    "ExecuteTime": {
     "end_time": "2021-03-23T21:15:53.985240Z",
     "start_time": "2021-03-23T21:15:49.521678Z"
    },
    "collapsed": true
   },
   "outputs": [],
   "source": [
    "from babelgrid import Babel\n",
    "import basedosdados as bd"
   ]
  },
  {
   "cell_type": "code",
   "execution_count": 2,
   "metadata": {
    "ExecuteTime": {
     "end_time": "2021-03-23T19:44:55.311253Z",
     "start_time": "2021-03-23T19:44:54.083551Z"
    },
    "scrolled": true
   },
   "outputs": [
    {
     "name": "stderr",
     "output_type": "stream",
     "text": [
      "/usr/local/lib/python3.9/site-packages/geopandas/_compat.py:106: UserWarning: The Shapely GEOS version (3.9.1-CAPI-1.14.2) is incompatible with the GEOS version PyGEOS was compiled with (3.9.0-CAPI-1.16.2). Conversions between both will be slow.\n",
      "  warnings.warn(\n"
     ]
    }
   ],
   "source": [
    "import geopandas as gpd"
   ]
  },
  {
   "cell_type": "code",
   "execution_count": null,
   "metadata": {
    "collapsed": true
   },
   "outputs": [],
   "source": [
    "# Load Raw"
   ]
  },
  {
   "cell_type": "code",
   "execution_count": 110,
   "metadata": {
    "ExecuteTime": {
     "end_time": "2021-03-23T22:56:09.770305Z",
     "start_time": "2021-03-23T22:47:11.642600Z"
    },
    "collapsed": true
   },
   "outputs": [
    {
     "ename": "FileNotFoundError",
     "evalue": "[Errno 2] No such file or directory: '../data/staging/hexagonos_2019.csv'",
     "output_type": "error",
     "traceback": [
      "\u001b[0;31m---------------------------------------------------------------------------\u001b[0m",
      "\u001b[0;31mFileNotFoundError\u001b[0m                         Traceback (most recent call last)",
      "\u001b[0;32m<ipython-input-110-a9dbec3a7828>\u001b[0m in \u001b[0;36m<module>\u001b[0;34m\u001b[0m\n\u001b[1;32m      1\u001b[0m \u001b[0mdf\u001b[0m \u001b[0;34m=\u001b[0m \u001b[0mgpd\u001b[0m\u001b[0;34m.\u001b[0m\u001b[0mread_file\u001b[0m\u001b[0;34m(\u001b[0m\u001b[0;34m'/Users/joaoc/Downloads/dados2019_v1.0_20200116.gpkg'\u001b[0m\u001b[0;34m)\u001b[0m\u001b[0;34m\u001b[0m\u001b[0;34m\u001b[0m\u001b[0m\n\u001b[0;32m----> 2\u001b[0;31m \u001b[0mdf\u001b[0m\u001b[0;34m.\u001b[0m\u001b[0mto_csv\u001b[0m\u001b[0;34m(\u001b[0m\u001b[0;34m'../data/staging/hexagonos_2019.csv'\u001b[0m\u001b[0;34m,\u001b[0m \u001b[0mindex\u001b[0m\u001b[0;34m=\u001b[0m\u001b[0;32mFalse\u001b[0m\u001b[0;34m)\u001b[0m\u001b[0;34m\u001b[0m\u001b[0;34m\u001b[0m\u001b[0m\n\u001b[0m",
      "\u001b[0;32m/usr/local/lib/python3.9/site-packages/pandas/core/generic.py\u001b[0m in \u001b[0;36mto_csv\u001b[0;34m(self, path_or_buf, sep, na_rep, float_format, columns, header, index, index_label, mode, encoding, compression, quoting, quotechar, line_terminator, chunksize, date_format, doublequote, escapechar, decimal, errors, storage_options)\u001b[0m\n\u001b[1;32m   3385\u001b[0m         )\n\u001b[1;32m   3386\u001b[0m \u001b[0;34m\u001b[0m\u001b[0m\n\u001b[0;32m-> 3387\u001b[0;31m         return DataFrameRenderer(formatter).to_csv(\n\u001b[0m\u001b[1;32m   3388\u001b[0m             \u001b[0mpath_or_buf\u001b[0m\u001b[0;34m,\u001b[0m\u001b[0;34m\u001b[0m\u001b[0;34m\u001b[0m\u001b[0m\n\u001b[1;32m   3389\u001b[0m             \u001b[0mline_terminator\u001b[0m\u001b[0;34m=\u001b[0m\u001b[0mline_terminator\u001b[0m\u001b[0;34m,\u001b[0m\u001b[0;34m\u001b[0m\u001b[0;34m\u001b[0m\u001b[0m\n",
      "\u001b[0;32m/usr/local/lib/python3.9/site-packages/pandas/io/formats/format.py\u001b[0m in \u001b[0;36mto_csv\u001b[0;34m(self, path_or_buf, encoding, sep, columns, index_label, mode, compression, quoting, quotechar, line_terminator, chunksize, date_format, doublequote, escapechar, errors, storage_options)\u001b[0m\n\u001b[1;32m   1081\u001b[0m             \u001b[0mformatter\u001b[0m\u001b[0;34m=\u001b[0m\u001b[0mself\u001b[0m\u001b[0;34m.\u001b[0m\u001b[0mfmt\u001b[0m\u001b[0;34m,\u001b[0m\u001b[0;34m\u001b[0m\u001b[0;34m\u001b[0m\u001b[0m\n\u001b[1;32m   1082\u001b[0m         )\n\u001b[0;32m-> 1083\u001b[0;31m         \u001b[0mcsv_formatter\u001b[0m\u001b[0;34m.\u001b[0m\u001b[0msave\u001b[0m\u001b[0;34m(\u001b[0m\u001b[0;34m)\u001b[0m\u001b[0;34m\u001b[0m\u001b[0;34m\u001b[0m\u001b[0m\n\u001b[0m\u001b[1;32m   1084\u001b[0m \u001b[0;34m\u001b[0m\u001b[0m\n\u001b[1;32m   1085\u001b[0m         \u001b[0;32mif\u001b[0m \u001b[0mcreated_buffer\u001b[0m\u001b[0;34m:\u001b[0m\u001b[0;34m\u001b[0m\u001b[0;34m\u001b[0m\u001b[0m\n",
      "\u001b[0;32m/usr/local/lib/python3.9/site-packages/pandas/io/formats/csvs.py\u001b[0m in \u001b[0;36msave\u001b[0;34m(self)\u001b[0m\n\u001b[1;32m    226\u001b[0m         \"\"\"\n\u001b[1;32m    227\u001b[0m         \u001b[0;31m# apply compression and byte/text conversion\u001b[0m\u001b[0;34m\u001b[0m\u001b[0;34m\u001b[0m\u001b[0;34m\u001b[0m\u001b[0m\n\u001b[0;32m--> 228\u001b[0;31m         with get_handle(\n\u001b[0m\u001b[1;32m    229\u001b[0m             \u001b[0mself\u001b[0m\u001b[0;34m.\u001b[0m\u001b[0mfilepath_or_buffer\u001b[0m\u001b[0;34m,\u001b[0m\u001b[0;34m\u001b[0m\u001b[0;34m\u001b[0m\u001b[0m\n\u001b[1;32m    230\u001b[0m             \u001b[0mself\u001b[0m\u001b[0;34m.\u001b[0m\u001b[0mmode\u001b[0m\u001b[0;34m,\u001b[0m\u001b[0;34m\u001b[0m\u001b[0;34m\u001b[0m\u001b[0m\n",
      "\u001b[0;32m/usr/local/lib/python3.9/site-packages/pandas/io/common.py\u001b[0m in \u001b[0;36mget_handle\u001b[0;34m(path_or_buf, mode, encoding, compression, memory_map, is_text, errors, storage_options)\u001b[0m\n\u001b[1;32m    640\u001b[0m                 \u001b[0merrors\u001b[0m \u001b[0;34m=\u001b[0m \u001b[0;34m\"replace\"\u001b[0m\u001b[0;34m\u001b[0m\u001b[0;34m\u001b[0m\u001b[0m\n\u001b[1;32m    641\u001b[0m             \u001b[0;31m# Encoding\u001b[0m\u001b[0;34m\u001b[0m\u001b[0;34m\u001b[0m\u001b[0;34m\u001b[0m\u001b[0m\n\u001b[0;32m--> 642\u001b[0;31m             handle = open(\n\u001b[0m\u001b[1;32m    643\u001b[0m                 \u001b[0mhandle\u001b[0m\u001b[0;34m,\u001b[0m\u001b[0;34m\u001b[0m\u001b[0;34m\u001b[0m\u001b[0m\n\u001b[1;32m    644\u001b[0m                 \u001b[0mioargs\u001b[0m\u001b[0;34m.\u001b[0m\u001b[0mmode\u001b[0m\u001b[0;34m,\u001b[0m\u001b[0;34m\u001b[0m\u001b[0;34m\u001b[0m\u001b[0m\n",
      "\u001b[0;31mFileNotFoundError\u001b[0m: [Errno 2] No such file or directory: '../data/staging/hexagonos_2019.csv'"
     ]
    }
   ],
   "source": [
    "df = gpd.read_file('/Users/joaoc/Downloads/dados2019_v1.0_20200116.gpkg')\n"
   ]
  },
  {
   "cell_type": "code",
   "execution_count": 112,
   "metadata": {
    "ExecuteTime": {
     "end_time": "2021-03-23T23:03:30.470590Z",
     "start_time": "2021-03-23T23:00:19.883329Z"
    }
   },
   "outputs": [],
   "source": [
    "df.to_csv('../data/treated/hexagonos_2019.csv', index=False)"
   ]
  },
  {
   "cell_type": "code",
   "execution_count": 113,
   "metadata": {
    "ExecuteTime": {
     "end_time": "2021-03-23T23:03:41.620852Z",
     "start_time": "2021-03-23T23:03:41.599115Z"
    },
    "collapsed": true
   },
   "outputs": [],
   "source": [
    "# Normalize Columns"
   ]
  },
  {
   "cell_type": "code",
   "execution_count": 114,
   "metadata": {
    "ExecuteTime": {
     "end_time": "2021-03-23T23:03:45.584579Z",
     "start_time": "2021-03-23T23:03:45.447541Z"
    },
    "collapsed": true
   },
   "outputs": [],
   "source": [
    "columns = {\n",
    " 'sigla_muni': None,\n",
    " 'nome_muni': 'nome_municipio',\n",
    " 'cod_muni': 'id_municipio',\n",
    " 'id_hex': 'id_grid_h3',\n",
    " 'geometry': 'geometria',\n",
    " 'modo': 'modo_transporte',\n",
    " 'pico': 'se_horario_de_pico',\n",
    " 'P001': 'quantidade_pessoas',\n",
    " 'P002': 'quantidade_pessoas_brancas',\n",
    " 'P003': 'quantidade_pessoas_negras',\n",
    " 'P004': 'quantidade_pessoas_indigenas',\n",
    " 'P005': 'quantidade_pessoas_amarelas',\n",
    " 'R001': 'renda_domiciliar_pc',\n",
    " 'R002': 'quintil_de_renda',\n",
    " 'R003': 'decil_de_renda',\n",
    " 'E001': 'quantidade_estabelecimentos_ensino',\n",
    " 'E002': 'quantidade_estabelecimentos_ensino_infantil',\n",
    " 'E003': 'quantidade_estabelecimentos_ensino_fundamental',\n",
    " 'E004': 'quantidade_estabelecimentos_ensino_medio',\n",
    " 'S001': 'quantidade_estabelecimentos_saude',\n",
    " 'S002': 'quantidade_estabelecimentos_saude_baixa_complexidade',\n",
    " 'S003': 'quantidade_estabelecimentos_saude_media_coplexidade',\n",
    " 'S004': 'quantidade_estabelecimentos_saude_alta_coplexidade',\n",
    " 'CMATT15': 'CMATT15',\n",
    " 'CMATQ15': 'CMATQ15',\n",
    " 'CMATD15': 'CMATD15',\n",
    " 'CMAST15': 'CMAST15',\n",
    " 'CMASB15': 'CMASB15',\n",
    " 'CMASM15': 'CMASM15',\n",
    " 'CMASA15': 'CMASA15',\n",
    " 'CMAET15': 'CMAET15',\n",
    " 'CMAEI15': 'CMAEI15',\n",
    " 'CMAEF15': 'CMAEF15',\n",
    " 'CMAEM15': 'CMAEM15',\n",
    " 'CMATT30': 'CMATT30',\n",
    " 'CMATQ30': 'CMATQ30',\n",
    " 'CMATD30': 'CMATD30',\n",
    " 'CMAST30': 'CMAST30',\n",
    " 'CMASB30': 'CMASB30',\n",
    " 'CMASM30': 'CMASM30',\n",
    " 'CMASA30': 'CMASA30',\n",
    " 'CMAET30': 'CMAET30',\n",
    " 'CMAEI30': 'CMAEI30',\n",
    " 'CMAEF30': 'CMAEF30',\n",
    " 'CMAEM30': 'CMAEM30',\n",
    " 'CMATT45': 'CMATT45',\n",
    " 'CMATQ45': 'CMATQ45',\n",
    " 'CMATD45': 'CMATD45',\n",
    " 'CMAST45': 'CMAST45',\n",
    " 'CMASB45': 'CMASB45',\n",
    " 'CMASM45': 'CMASM45',\n",
    " 'CMASA45': 'CMASA45',\n",
    " 'CMAET45': 'CMAET45',\n",
    " 'CMAEI45': 'CMAEI45',\n",
    " 'CMAEF45': 'CMAEF45',\n",
    " 'CMAEM45': 'CMAEM45',\n",
    " 'CMATT60': 'CMATT60',\n",
    " 'CMATQ60': 'CMATQ60',\n",
    " 'CMATD60': 'CMATD60',\n",
    " 'CMAST60': 'CMAST60',\n",
    " 'CMASB60': 'CMASB60',\n",
    " 'CMASM60': 'CMASM60',\n",
    " 'CMASA60': 'CMASA60',\n",
    " 'CMAET60': 'CMAET60',\n",
    " 'CMAEI60': 'CMAEI60',\n",
    " 'CMAEF60': 'CMAEF60',\n",
    " 'CMAEM60': 'CMAEM60',\n",
    " 'CMATT90': 'CMATT90',\n",
    " 'CMATQ90': 'CMATQ90',\n",
    " 'CMATD90': 'CMATD90',\n",
    " 'CMAST90': 'CMAST90',\n",
    " 'CMASB90': 'CMASB90',\n",
    " 'CMASM90': 'CMASM90',\n",
    " 'CMASA90': 'CMASA90',\n",
    " 'CMAET90': 'CMAET90',\n",
    " 'CMAEI90': 'CMAEI90',\n",
    " 'CMAEF90': 'CMAEF90',\n",
    " 'CMAEM90': 'CMAEM90',\n",
    " 'CMATT120': 'CMATT120',\n",
    " 'CMATQ120': 'CMATQ120',\n",
    " 'CMATD120': 'CMATD120',\n",
    " 'CMAST120': 'CMAST120',\n",
    " 'CMASB120': 'CMASB120',\n",
    " 'CMASM120': 'CMASM120',\n",
    " 'CMASA120': 'CMASA120',\n",
    " 'CMAET120': 'CMAET120',\n",
    " 'CMAEI120': 'CMAEI120',\n",
    " 'CMAEF120': 'CMAEF120',\n",
    " 'CMAEM120': 'CMAEM120',\n",
    " 'TMIST': 'TMIST',\n",
    " 'TMISB': 'TMISB',\n",
    " 'TMISM': 'TMISM',\n",
    " 'TMISA': 'TMISA',\n",
    " 'TMIET': 'TMIET',\n",
    " 'TMIEI': 'TMIEI',\n",
    " 'TMIEF': 'TMIEF',\n",
    " 'TMIEM': 'TMIEM',\n",
    " }"
   ]
  },
  {
   "cell_type": "code",
   "execution_count": 115,
   "metadata": {
    "ExecuteTime": {
     "end_time": "2021-03-23T23:03:53.209476Z",
     "start_time": "2021-03-23T23:03:49.685495Z"
    }
   },
   "outputs": [],
   "source": [
    "df = df.rename(columns=columns)[[c for c in columns.values() if c is not None]]"
   ]
  },
  {
   "cell_type": "code",
   "execution_count": 116,
   "metadata": {
    "ExecuteTime": {
     "end_time": "2021-03-23T23:03:56.940073Z",
     "start_time": "2021-03-23T23:03:55.004636Z"
    }
   },
   "outputs": [],
   "source": [
    "df['id_municipio'] = df['id_municipio'].apply(int)"
   ]
  },
  {
   "cell_type": "code",
   "execution_count": 117,
   "metadata": {
    "ExecuteTime": {
     "end_time": "2021-03-23T23:06:00.125593Z",
     "start_time": "2021-03-23T23:03:59.036305Z"
    },
    "collapsed": true
   },
   "outputs": [],
   "source": [
    "df.to_csv('../data/output/hexagonos_2019.csv', index=False)"
   ]
  },
  {
   "cell_type": "code",
   "execution_count": 118,
   "metadata": {
    "ExecuteTime": {
     "end_time": "2021-03-23T23:06:03.352346Z",
     "start_time": "2021-03-23T23:06:02.673101Z"
    }
   },
   "outputs": [
    {
     "name": "stdout",
     "output_type": "stream",
     "text": [
      "total 626936\r\n",
      "12926812677 -rw-r--r--@ 1 501  20   3.7M 18 Mar 16:41 bairros.csv\r\n",
      "12927498660 -rw-r--r--  1 501  20    46M 23 Mar 17:07 edges.csv\r\n",
      "12927502271 -rw-r--r--  1 501  20   255M 23 Mar 20:06 hexagonos_2019.csv\r\n"
     ]
    }
   ],
   "source": [
    "!ls -nih ../data/output/"
   ]
  },
  {
   "cell_type": "code",
   "execution_count": 119,
   "metadata": {
    "ExecuteTime": {
     "end_time": "2021-03-23T23:16:41.366093Z",
     "start_time": "2021-03-23T23:16:41.354206Z"
    },
    "collapsed": true
   },
   "outputs": [],
   "source": [
    "# Create Table"
   ]
  },
  {
   "cell_type": "code",
   "execution_count": 120,
   "metadata": {
    "ExecuteTime": {
     "end_time": "2021-03-23T23:16:49.110033Z",
     "start_time": "2021-03-23T23:16:48.338204Z"
    },
    "collapsed": true
   },
   "outputs": [],
   "source": [
    "t = bd.Table(dataset_id='br_ipea_acesso_oportunidades', \n",
    "             table_id='hexagonos_2019')"
   ]
  },
  {
   "cell_type": "code",
   "execution_count": 121,
   "metadata": {
    "ExecuteTime": {
     "end_time": "2021-03-23T23:17:17.293028Z",
     "start_time": "2021-03-23T23:16:50.708900Z"
    },
    "scrolled": true
   },
   "outputs": [
    {
     "name": "stderr",
     "output_type": "stream",
     "text": [
      "Uploading files: 100%|██████████| 1/1 [00:22<00:00, 22.43s/it]\n"
     ]
    }
   ],
   "source": [
    "t.create('../data/output/hexagonos_2019.csv', \n",
    "         if_storage_data_exists='replace',\n",
    "         if_table_config_exists='pass',\n",
    "         if_table_exists='replace'\n",
    "        )"
   ]
  },
  {
   "cell_type": "code",
   "execution_count": 122,
   "metadata": {
    "ExecuteTime": {
     "end_time": "2021-03-23T23:17:21.937211Z",
     "start_time": "2021-03-23T23:17:21.914335Z"
    },
    "collapsed": true
   },
   "outputs": [],
   "source": [
    "# Complete column description"
   ]
  },
  {
   "cell_type": "code",
   "execution_count": 123,
   "metadata": {
    "ExecuteTime": {
     "end_time": "2021-03-23T23:17:33.092431Z",
     "start_time": "2021-03-23T23:17:33.085852Z"
    },
    "collapsed": true
   },
   "outputs": [],
   "source": [
    "template = {\n",
    "    'CMA': 'Número de {oport} acessíveis em até {minutos} minutos',\n",
    "    'TMI': 'Indicador de tempo mínimo até {oport} mais próximo'\n",
    "}"
   ]
  },
  {
   "cell_type": "code",
   "execution_count": 124,
   "metadata": {
    "ExecuteTime": {
     "end_time": "2021-03-23T23:17:34.965817Z",
     "start_time": "2021-03-23T23:17:34.940265Z"
    }
   },
   "outputs": [],
   "source": [
    "oports = {\n",
    "'TT': 'empregos',\n",
    "'TQ': 'empregos pelo match do quintil de renda',\n",
    "'TD': 'empregos pelo match do decil de renda',\n",
    "'ST': 'estabelecimentos de saúde',\n",
    "'SB': 'estabelecimentos de sáude de baixa complexidade',\n",
    "'SM': 'estabelecimentos de sáude de media complexidade',\n",
    "'SA': 'estabelecimentos de sáude de alta complexidade',\n",
    "'ET': 'estabelecimentos de educação',\n",
    "'EI': 'estabelecimentos de educação infantil',\n",
    "'EF': 'estabelecimentos de educação fundamental',\n",
    "'EM': 'estabelecimentos de educação média',\n",
    "}"
   ]
  },
  {
   "cell_type": "code",
   "execution_count": 125,
   "metadata": {
    "ExecuteTime": {
     "end_time": "2021-03-23T23:17:36.982466Z",
     "start_time": "2021-03-23T23:17:36.925150Z"
    }
   },
   "outputs": [],
   "source": [
    "def complete(c, v):\n",
    "    \n",
    "    if c[:3] == 'CMA':\n",
    "    \n",
    "        return template['CMA'].format(oport=oports[c[3:5]], \n",
    "                                      minutos=c[5:])\n",
    "    elif c[:3] == 'TMI':\n",
    "    \n",
    "        return template['TMI'].format(oport=oports[c[3:5]])\n",
    "    \n",
    "    else:\n",
    "        return None\n",
    "    \n",
    "descs = {c: complete(c, v) for c, v in columns.items() if complete(c, v) is not None}"
   ]
  },
  {
   "cell_type": "code",
   "execution_count": 68,
   "metadata": {
    "ExecuteTime": {
     "end_time": "2021-03-23T22:25:52.356940Z",
     "start_time": "2021-03-23T22:25:52.342696Z"
    },
    "collapsed": true
   },
   "outputs": [],
   "source": [
    "import yaml"
   ]
  },
  {
   "cell_type": "code",
   "execution_count": 71,
   "metadata": {
    "ExecuteTime": {
     "end_time": "2021-03-23T22:26:30.319658Z",
     "start_time": "2021-03-23T22:26:30.085263Z"
    }
   },
   "outputs": [],
   "source": [
    "config = yaml.load(open('/Users/joaoc/Documents/Projects/mais/bases/br_ipea_acesso_oportunidades/hexagonos_2019/table_config.yaml'))"
   ]
  },
  {
   "cell_type": "code",
   "execution_count": 95,
   "metadata": {
    "ExecuteTime": {
     "end_time": "2021-03-23T22:37:46.600333Z",
     "start_time": "2021-03-23T22:37:46.453739Z"
    }
   },
   "outputs": [
    {
     "name": "stdout",
     "output_type": "stream",
     "text": [
      "\n",
      "-\n",
      "\tname:  nome_municipio\n",
      "\tdescription:  Nome do município\n",
      "\tis_in_staging:  True\n",
      "\tis_partition:  False\n",
      "\n",
      "-\n",
      "\tname:  id_municipio\n",
      "\tdescription:  Código 7 dígitos IBGE do município\n",
      "\tis_in_staging:  True\n",
      "\tis_partition:  False\n",
      "\n",
      "-\n",
      "\tname:  id_grid_h3\n",
      "\tdescription:  Identificador único do hexágono (resolucao 9)\n",
      "\tis_in_staging:  True\n",
      "\tis_partition:  False\n",
      "\n",
      "-\n",
      "\tname:  geometria\n",
      "\tdescription:  Geometria do hexágono\n",
      "\tis_in_staging:  True\n",
      "\tis_partition:  False\n",
      "\n",
      "-\n",
      "\tname:  quantidade_pessoas\n",
      "\tdescription:  Quantidade total de pessoas\n",
      "\tis_in_staging:  True\n",
      "\tis_partition:  False\n",
      "\n",
      "-\n",
      "\tname:  quantidade_pessoas_brancas\n",
      "\tdescription:  Quantidade de pessoas de cor branca\n",
      "\tis_in_staging:  True\n",
      "\tis_partition:  False\n",
      "\n",
      "-\n",
      "\tname:  quantidade_pessoas_negras\n",
      "\tdescription:  Quantidade de pessoas de cor negra\n",
      "\tis_in_staging:  True\n",
      "\tis_partition:  False\n",
      "\n",
      "-\n",
      "\tname:  quantidade_pessoas_indigenas\n",
      "\tdescription:  Quantidade de pessoas de cor indígena\n",
      "\tis_in_staging:  True\n",
      "\tis_partition:  False\n",
      "\n",
      "-\n",
      "\tname:  quantidade_pessoas_amarelas\n",
      "\tdescription:  Quantidade de pessoas de cor amarela\n",
      "\tis_in_staging:  True\n",
      "\tis_partition:  False\n",
      "\n",
      "-\n",
      "\tname:  renda_domiciliar_pc\n",
      "\tdescription:  Renda domiciliar per capta média\n",
      "\tis_in_staging:  True\n",
      "\tis_partition:  False\n",
      "\n",
      "-\n",
      "\tname:  quintil_de_renda\n",
      "\tdescription:  Quintil de renda\n",
      "\tis_in_staging:  True\n",
      "\tis_partition:  False\n",
      "\n",
      "-\n",
      "\tname:  decil_de_renda\n",
      "\tdescription:  Decil de renda\n",
      "\tis_in_staging:  True\n",
      "\tis_partition:  False\n",
      "\n",
      "-\n",
      "\tname:  quantidade_estabelecimentos_ensino\n",
      "\tdescription:  Quantidade total de estabelecimentos de ensino\n",
      "\tis_in_staging:  True\n",
      "\tis_partition:  False\n",
      "\n",
      "-\n",
      "\tname:  quantidade_estabelecimentos_ensino_infantil\n",
      "\tdescription:  Quantidade de estabelecimentos de ensino infantil\n",
      "\tis_in_staging:  True\n",
      "\tis_partition:  False\n",
      "\n",
      "-\n",
      "\tname:  quantidade_estabelecimentos_ensino_fundamental\n",
      "\tdescription:  Quantidade de estabelecimentos de ensino fundamental\n",
      "\tis_in_staging:  True\n",
      "\tis_partition:  False\n",
      "\n",
      "-\n",
      "\tname:  quantidade_estabelecimentos_ensino_medio\n",
      "\tdescription:  Quantidade de estabelecimentos de ensino médio\n",
      "\tis_in_staging:  True\n",
      "\tis_partition:  False\n",
      "\n",
      "-\n",
      "\tname:  quantidade_estabelecimentos_saude\n",
      "\tdescription:  Quantidade total de estabelecimentos de saúde\n",
      "\tis_in_staging:  True\n",
      "\tis_partition:  False\n",
      "\n",
      "-\n",
      "\tname:  quantidade_estabelecimentos_saude_baixa_complexidade\n",
      "\tdescription:  Quantidade de estabelecimentos de sáude de baixa complexidade\n",
      "\tis_in_staging:  True\n",
      "\tis_partition:  False\n",
      "\n",
      "-\n",
      "\tname:  quantidade_estabelecimentos_saude_media_coplexidade\n",
      "\tdescription:  Quantidade de estabelecimentos de sáude de média  complexidade\n",
      "\tis_in_staging:  True\n",
      "\tis_partition:  False\n",
      "\n",
      "-\n",
      "\tname:  quantidade_estabelecimentos_saude_alta_coplexidade\n",
      "\tdescription:  Quantidade de estabelecimentos de sáude de alta complexidade\n",
      "\tis_in_staging:  True\n",
      "\tis_partition:  False\n",
      "\n",
      "-\n",
      "\tname:  modo_transporte\n",
      "\tdescription:  Modo de transporte do indicador de acessibilidade\n",
      "\tis_in_staging:  True\n",
      "\tis_partition:  False\n",
      "\n",
      "-\n",
      "\tname:  se_horario_de_pico\n",
      "\tdescription:  Informação se o indicador é em hora pico ou fora-pico\n",
      "\tis_in_staging:  True\n",
      "\tis_partition:  False\n",
      "\n",
      "-\n",
      "\tname:  CMATT15\n",
      "\tdescription:  Número de empregos acessíveis em até 15 minutos\n",
      "\tis_in_staging:  True\n",
      "\tis_partition:  False\n",
      "\n",
      "-\n",
      "\tname:  CMATQ15\n",
      "\tdescription:  Número de empregos pelo match do quintil de renda acessíveis em até 15 minutos\n",
      "\tis_in_staging:  True\n",
      "\tis_partition:  False\n",
      "\n",
      "-\n",
      "\tname:  CMATD15\n",
      "\tdescription:  Número de empregos pelo match do decil de renda acessíveis em até 15 minutos\n",
      "\tis_in_staging:  True\n",
      "\tis_partition:  False\n",
      "\n",
      "-\n",
      "\tname:  CMAST15\n",
      "\tdescription:  Número de estabelecimentos de saúde acessíveis em até 15 minutos\n",
      "\tis_in_staging:  True\n",
      "\tis_partition:  False\n",
      "\n",
      "-\n",
      "\tname:  CMASB15\n",
      "\tdescription:  Número de estabelecimentos de sáude de baixa complexidade acessíveis em até 15 minutos\n",
      "\tis_in_staging:  True\n",
      "\tis_partition:  False\n",
      "\n",
      "-\n",
      "\tname:  CMASM15\n",
      "\tdescription:  Número de estabelecimentos de sáude de media complexidade acessíveis em até 15 minutos\n",
      "\tis_in_staging:  True\n",
      "\tis_partition:  False\n",
      "\n",
      "-\n",
      "\tname:  CMASA15\n",
      "\tdescription:  Número de estabelecimentos de sáude de alta complexidade acessíveis em até 15 minutos\n",
      "\tis_in_staging:  True\n",
      "\tis_partition:  False\n",
      "\n",
      "-\n",
      "\tname:  CMAET15\n",
      "\tdescription:  Número de estabelecimentos de educação acessíveis em até 15 minutos\n",
      "\tis_in_staging:  True\n",
      "\tis_partition:  False\n",
      "\n",
      "-\n",
      "\tname:  CMAEI15\n",
      "\tdescription:  Número de estabelecimentos de educação infantil acessíveis em até 15 minutos\n",
      "\tis_in_staging:  True\n",
      "\tis_partition:  False\n",
      "\n",
      "-\n",
      "\tname:  CMAEF15\n",
      "\tdescription:  Número de estabelecimentos de educação fundamental acessíveis em até 15 minutos\n",
      "\tis_in_staging:  True\n",
      "\tis_partition:  False\n",
      "\n",
      "-\n",
      "\tname:  CMAEM15\n",
      "\tdescription:  Número de estabelecimentos de educação média acessíveis em até 15 minutos\n",
      "\tis_in_staging:  True\n",
      "\tis_partition:  False\n",
      "\n",
      "-\n",
      "\tname:  CMATT30\n",
      "\tdescription:  Número de empregos acessíveis em até 30 minutos\n",
      "\tis_in_staging:  True\n",
      "\tis_partition:  False\n",
      "\n",
      "-\n",
      "\tname:  CMATQ30\n",
      "\tdescription:  Número de empregos pelo match do quintil de renda acessíveis em até 30 minutos\n",
      "\tis_in_staging:  True\n",
      "\tis_partition:  False\n",
      "\n",
      "-\n",
      "\tname:  CMATD30\n",
      "\tdescription:  Número de empregos pelo match do decil de renda acessíveis em até 30 minutos\n",
      "\tis_in_staging:  True\n",
      "\tis_partition:  False\n",
      "\n",
      "-\n",
      "\tname:  CMAST30\n",
      "\tdescription:  Número de estabelecimentos de saúde acessíveis em até 30 minutos\n",
      "\tis_in_staging:  True\n",
      "\tis_partition:  False\n",
      "\n",
      "-\n",
      "\tname:  CMASB30\n",
      "\tdescription:  Número de estabelecimentos de sáude de baixa complexidade acessíveis em até 30 minutos\n",
      "\tis_in_staging:  True\n",
      "\tis_partition:  False\n",
      "\n",
      "-\n",
      "\tname:  CMASM30\n",
      "\tdescription:  Número de estabelecimentos de sáude de media complexidade acessíveis em até 30 minutos\n",
      "\tis_in_staging:  True\n",
      "\tis_partition:  False\n",
      "\n",
      "-\n",
      "\tname:  CMASA30\n",
      "\tdescription:  Número de estabelecimentos de sáude de alta complexidade acessíveis em até 30 minutos\n",
      "\tis_in_staging:  True\n",
      "\tis_partition:  False\n",
      "\n",
      "-\n",
      "\tname:  CMAET30\n",
      "\tdescription:  Número de estabelecimentos de educação acessíveis em até 30 minutos\n",
      "\tis_in_staging:  True\n",
      "\tis_partition:  False\n",
      "\n",
      "-\n",
      "\tname:  CMAEI30\n",
      "\tdescription:  Número de estabelecimentos de educação infantil acessíveis em até 30 minutos\n",
      "\tis_in_staging:  True\n",
      "\tis_partition:  False\n",
      "\n",
      "-\n",
      "\tname:  CMAEF30\n",
      "\tdescription:  Número de estabelecimentos de educação fundamental acessíveis em até 30 minutos\n",
      "\tis_in_staging:  True\n",
      "\tis_partition:  False\n",
      "\n",
      "-\n",
      "\tname:  CMAEM30\n",
      "\tdescription:  Número de estabelecimentos de educação média acessíveis em até 30 minutos\n",
      "\tis_in_staging:  True\n",
      "\tis_partition:  False\n",
      "\n",
      "-\n",
      "\tname:  CMATT45\n",
      "\tdescription:  Número de empregos acessíveis em até 45 minutos\n",
      "\tis_in_staging:  True\n",
      "\tis_partition:  False\n",
      "\n",
      "-\n",
      "\tname:  CMATQ45\n",
      "\tdescription:  Número de empregos pelo match do quintil de renda acessíveis em até 45 minutos\n",
      "\tis_in_staging:  True\n",
      "\tis_partition:  False\n",
      "\n",
      "-\n",
      "\tname:  CMATD45\n",
      "\tdescription:  Número de empregos pelo match do decil de renda acessíveis em até 45 minutos\n",
      "\tis_in_staging:  True\n",
      "\tis_partition:  False\n",
      "\n",
      "-\n",
      "\tname:  CMAST45\n",
      "\tdescription:  Número de estabelecimentos de saúde acessíveis em até 45 minutos\n",
      "\tis_in_staging:  True\n",
      "\tis_partition:  False\n",
      "\n",
      "-\n",
      "\tname:  CMASB45\n",
      "\tdescription:  Número de estabelecimentos de sáude de baixa complexidade acessíveis em até 45 minutos\n",
      "\tis_in_staging:  True\n",
      "\tis_partition:  False\n",
      "\n",
      "-\n",
      "\tname:  CMASM45\n",
      "\tdescription:  Número de estabelecimentos de sáude de media complexidade acessíveis em até 45 minutos\n",
      "\tis_in_staging:  True\n",
      "\tis_partition:  False\n",
      "\n",
      "-\n",
      "\tname:  CMASA45\n",
      "\tdescription:  Número de estabelecimentos de sáude de alta complexidade acessíveis em até 45 minutos\n",
      "\tis_in_staging:  True\n",
      "\tis_partition:  False\n",
      "\n",
      "-\n",
      "\tname:  CMAET45\n",
      "\tdescription:  Número de estabelecimentos de educação acessíveis em até 45 minutos\n",
      "\tis_in_staging:  True\n",
      "\tis_partition:  False\n",
      "\n",
      "-\n",
      "\tname:  CMAEI45\n",
      "\tdescription:  Número de estabelecimentos de educação infantil acessíveis em até 45 minutos\n",
      "\tis_in_staging:  True\n",
      "\tis_partition:  False\n",
      "\n",
      "-\n",
      "\tname:  CMAEF45\n",
      "\tdescription:  Número de estabelecimentos de educação fundamental acessíveis em até 45 minutos\n",
      "\tis_in_staging:  True\n",
      "\tis_partition:  False\n",
      "\n",
      "-\n",
      "\tname:  CMAEM45\n",
      "\tdescription:  Número de estabelecimentos de educação média acessíveis em até 45 minutos\n",
      "\tis_in_staging:  True\n",
      "\tis_partition:  False\n",
      "\n",
      "-\n",
      "\tname:  CMATT60\n",
      "\tdescription:  Número de empregos acessíveis em até 60 minutos\n",
      "\tis_in_staging:  True\n",
      "\tis_partition:  False\n",
      "\n",
      "-\n",
      "\tname:  CMATQ60\n",
      "\tdescription:  Número de empregos pelo match do quintil de renda acessíveis em até 60 minutos\n",
      "\tis_in_staging:  True\n",
      "\tis_partition:  False\n",
      "\n",
      "-\n",
      "\tname:  CMATD60\n",
      "\tdescription:  Número de empregos pelo match do decil de renda acessíveis em até 60 minutos\n",
      "\tis_in_staging:  True\n",
      "\tis_partition:  False\n",
      "\n",
      "-\n",
      "\tname:  CMAST60\n",
      "\tdescription:  Número de estabelecimentos de saúde acessíveis em até 60 minutos\n",
      "\tis_in_staging:  True\n",
      "\tis_partition:  False\n",
      "\n",
      "-\n",
      "\tname:  CMASB60\n",
      "\tdescription:  Número de estabelecimentos de sáude de baixa complexidade acessíveis em até 60 minutos\n",
      "\tis_in_staging:  True\n",
      "\tis_partition:  False\n",
      "\n",
      "-\n",
      "\tname:  CMASM60\n",
      "\tdescription:  Número de estabelecimentos de sáude de media complexidade acessíveis em até 60 minutos\n",
      "\tis_in_staging:  True\n",
      "\tis_partition:  False\n",
      "\n",
      "-\n",
      "\tname:  CMASA60\n",
      "\tdescription:  Número de estabelecimentos de sáude de alta complexidade acessíveis em até 60 minutos\n",
      "\tis_in_staging:  True\n",
      "\tis_partition:  False\n",
      "\n",
      "-\n",
      "\tname:  CMAET60\n",
      "\tdescription:  Número de estabelecimentos de educação acessíveis em até 60 minutos\n",
      "\tis_in_staging:  True\n",
      "\tis_partition:  False\n",
      "\n",
      "-\n",
      "\tname:  CMAEI60\n",
      "\tdescription:  Número de estabelecimentos de educação infantil acessíveis em até 60 minutos\n",
      "\tis_in_staging:  True\n",
      "\tis_partition:  False\n",
      "\n",
      "-\n",
      "\tname:  CMAEF60\n",
      "\tdescription:  Número de estabelecimentos de educação fundamental acessíveis em até 60 minutos\n",
      "\tis_in_staging:  True\n",
      "\tis_partition:  False\n",
      "\n",
      "-\n",
      "\tname:  CMAEM60\n",
      "\tdescription:  Número de estabelecimentos de educação média acessíveis em até 60 minutos\n",
      "\tis_in_staging:  True\n",
      "\tis_partition:  False\n",
      "\n",
      "-\n",
      "\tname:  CMATT90\n",
      "\tdescription:  Número de empregos acessíveis em até 90 minutos\n",
      "\tis_in_staging:  True\n",
      "\tis_partition:  False\n",
      "\n",
      "-\n",
      "\tname:  CMATQ90\n",
      "\tdescription:  Número de empregos pelo match do quintil de renda acessíveis em até 90 minutos\n",
      "\tis_in_staging:  True\n",
      "\tis_partition:  False\n",
      "\n",
      "-\n",
      "\tname:  CMATD90\n",
      "\tdescription:  Número de empregos pelo match do decil de renda acessíveis em até 90 minutos\n",
      "\tis_in_staging:  True\n",
      "\tis_partition:  False\n",
      "\n",
      "-\n",
      "\tname:  CMAST90\n",
      "\tdescription:  Número de estabelecimentos de saúde acessíveis em até 90 minutos\n",
      "\tis_in_staging:  True\n",
      "\tis_partition:  False\n",
      "\n",
      "-\n",
      "\tname:  CMASB90\n",
      "\tdescription:  Número de estabelecimentos de sáude de baixa complexidade acessíveis em até 90 minutos\n",
      "\tis_in_staging:  True\n",
      "\tis_partition:  False\n",
      "\n",
      "-\n",
      "\tname:  CMASM90\n",
      "\tdescription:  Número de estabelecimentos de sáude de media complexidade acessíveis em até 90 minutos\n",
      "\tis_in_staging:  True\n",
      "\tis_partition:  False\n",
      "\n",
      "-\n",
      "\tname:  CMASA90\n",
      "\tdescription:  Número de estabelecimentos de sáude de alta complexidade acessíveis em até 90 minutos\n",
      "\tis_in_staging:  True\n",
      "\tis_partition:  False\n",
      "\n",
      "-\n",
      "\tname:  CMAET90\n",
      "\tdescription:  Número de estabelecimentos de educação acessíveis em até 90 minutos\n",
      "\tis_in_staging:  True\n",
      "\tis_partition:  False\n",
      "\n",
      "-\n",
      "\tname:  CMAEI90\n",
      "\tdescription:  Número de estabelecimentos de educação infantil acessíveis em até 90 minutos\n",
      "\tis_in_staging:  True\n",
      "\tis_partition:  False\n",
      "\n",
      "-\n",
      "\tname:  CMAEF90\n",
      "\tdescription:  Número de estabelecimentos de educação fundamental acessíveis em até 90 minutos\n",
      "\tis_in_staging:  True\n",
      "\tis_partition:  False\n",
      "\n",
      "-\n",
      "\tname:  CMAEM90\n",
      "\tdescription:  Número de estabelecimentos de educação média acessíveis em até 90 minutos\n",
      "\tis_in_staging:  True\n",
      "\tis_partition:  False\n",
      "\n",
      "-\n",
      "\tname:  CMATT120\n",
      "\tdescription:  Número de empregos acessíveis em até 120 minutos\n",
      "\tis_in_staging:  True\n",
      "\tis_partition:  False\n",
      "\n",
      "-\n",
      "\tname:  CMATQ120\n",
      "\tdescription:  Número de empregos pelo match do quintil de renda acessíveis em até 120 minutos\n",
      "\tis_in_staging:  True\n",
      "\tis_partition:  False\n",
      "\n",
      "-\n",
      "\tname:  CMATD120\n",
      "\tdescription:  Número de empregos pelo match do decil de renda acessíveis em até 120 minutos\n",
      "\tis_in_staging:  True\n",
      "\tis_partition:  False\n",
      "\n",
      "-\n",
      "\tname:  CMAST120\n",
      "\tdescription:  Número de estabelecimentos de saúde acessíveis em até 120 minutos\n",
      "\tis_in_staging:  True\n",
      "\tis_partition:  False\n",
      "\n",
      "-\n",
      "\tname:  CMASB120\n",
      "\tdescription:  Número de estabelecimentos de sáude de baixa complexidade acessíveis em até 120 minutos\n",
      "\tis_in_staging:  True\n",
      "\tis_partition:  False\n",
      "\n",
      "-\n",
      "\tname:  CMASM120\n",
      "\tdescription:  Número de estabelecimentos de sáude de media complexidade acessíveis em até 120 minutos\n",
      "\tis_in_staging:  True\n",
      "\tis_partition:  False\n",
      "\n",
      "-\n",
      "\tname:  CMASA120\n",
      "\tdescription:  Número de estabelecimentos de sáude de alta complexidade acessíveis em até 120 minutos\n",
      "\tis_in_staging:  True\n",
      "\tis_partition:  False\n",
      "\n",
      "-\n",
      "\tname:  CMAET120\n",
      "\tdescription:  Número de estabelecimentos de educação acessíveis em até 120 minutos\n",
      "\tis_in_staging:  True\n",
      "\tis_partition:  False\n",
      "\n",
      "-\n",
      "\tname:  CMAEI120\n",
      "\tdescription:  Número de estabelecimentos de educação infantil acessíveis em até 120 minutos\n",
      "\tis_in_staging:  True\n",
      "\tis_partition:  False\n",
      "\n",
      "-\n",
      "\tname:  CMAEF120\n",
      "\tdescription:  Número de estabelecimentos de educação fundamental acessíveis em até 120 minutos\n",
      "\tis_in_staging:  True\n",
      "\tis_partition:  False\n",
      "\n",
      "-\n",
      "\tname:  CMAEM120\n",
      "\tdescription:  Número de estabelecimentos de educação média acessíveis em até 120 minutos\n",
      "\tis_in_staging:  True\n",
      "\tis_partition:  False\n",
      "\n",
      "-\n",
      "\tname:  TMIST\n",
      "\tdescription:  Indicador de tempo mínimo até estabelecimentos de saúde mais próximo\n",
      "\tis_in_staging:  True\n",
      "\tis_partition:  False\n",
      "\n",
      "-\n",
      "\tname:  TMISB\n",
      "\tdescription:  Indicador de tempo mínimo até estabelecimentos de sáude de baixa complexidade mais próximo\n",
      "\tis_in_staging:  True\n",
      "\tis_partition:  False\n",
      "\n",
      "-\n",
      "\tname:  TMISM\n",
      "\tdescription:  Indicador de tempo mínimo até estabelecimentos de sáude de media complexidade mais próximo\n",
      "\tis_in_staging:  True\n",
      "\tis_partition:  False\n",
      "\n",
      "-\n",
      "\tname:  TMISA\n",
      "\tdescription:  Indicador de tempo mínimo até estabelecimentos de sáude de alta complexidade mais próximo\n",
      "\tis_in_staging:  True\n",
      "\tis_partition:  False\n",
      "\n",
      "-\n",
      "\tname:  TMIET\n",
      "\tdescription:  Indicador de tempo mínimo até estabelecimentos de educação mais próximo\n",
      "\tis_in_staging:  True\n",
      "\tis_partition:  False\n",
      "\n",
      "-\n",
      "\tname:  TMIEI\n",
      "\tdescription:  Indicador de tempo mínimo até estabelecimentos de educação infantil mais próximo\n",
      "\tis_in_staging:  True\n",
      "\tis_partition:  False\n",
      "\n",
      "-\n",
      "\tname:  TMIEF\n",
      "\tdescription:  Indicador de tempo mínimo até estabelecimentos de educação fundamental mais próximo\n",
      "\tis_in_staging:  True\n",
      "\tis_partition:  False\n",
      "\n",
      "-\n",
      "\tname:  TMIEM\n",
      "\tdescription:  Indicador de tempo mínimo até estabelecimentos de educação média mais próximo\n",
      "\tis_in_staging:  True\n",
      "\tis_partition:  False\n"
     ]
    }
   ],
   "source": [
    "for col in config['columns']:\n",
    "        \n",
    "    col['description'] = descs.get(col['name'], col['description'])\n",
    "    print('\\n-')\n",
    "    print('\\tname: ', col['name'])\n",
    "    print('\\tdescription: ', col['description'])\n",
    "    print('\\tis_in_staging: ', col['is_in_staging'])\n",
    "    print('\\tis_partition: ', col['is_partition'])"
   ]
  },
  {
   "cell_type": "code",
   "execution_count": null,
   "metadata": {
    "collapsed": true
   },
   "outputs": [],
   "source": [
    "# Table Publish"
   ]
  },
  {
   "cell_type": "code",
   "execution_count": 127,
   "metadata": {
    "ExecuteTime": {
     "end_time": "2021-03-23T23:20:55.598967Z",
     "start_time": "2021-03-23T23:20:52.919260Z"
    },
    "collapsed": true
   },
   "outputs": [],
   "source": [
    "t.publish()"
   ]
  },
  {
   "cell_type": "code",
   "execution_count": null,
   "metadata": {
    "collapsed": true
   },
   "outputs": [],
   "source": []
  }
 ],
 "metadata": {
  "kernelspec": {
   "display_name": "analises",
   "language": "python",
   "name": "analises"
  },
  "language_info": {
   "codemirror_mode": {
    "name": "ipython",
    "version": 3
   },
   "file_extension": ".py",
   "mimetype": "text/x-python",
   "name": "python",
   "nbconvert_exporter": "python",
   "pygments_lexer": "ipython3",
   "version": "3.9.2"
  },
  "toc": {
   "nav_menu": {},
   "number_sections": true,
   "sideBar": true,
   "skip_h1_title": false,
   "toc_cell": true,
   "toc_position": {},
   "toc_section_display": "block",
   "toc_window_display": false
  },
  "varInspector": {
   "cols": {
    "lenName": 16,
    "lenType": 16,
    "lenVar": 40
   },
   "kernels_config": {
    "python": {
     "delete_cmd_postfix": "",
     "delete_cmd_prefix": "del ",
     "library": "var_list.py",
     "varRefreshCmd": "print(var_dic_list())"
    },
    "r": {
     "delete_cmd_postfix": ") ",
     "delete_cmd_prefix": "rm(",
     "library": "var_list.r",
     "varRefreshCmd": "cat(var_dic_list()) "
    }
   },
   "types_to_exclude": [
    "module",
    "function",
    "builtin_function_or_method",
    "instance",
    "_Feature"
   ],
   "window_display": false
  }
 },
 "nbformat": 4,
 "nbformat_minor": 2
}
